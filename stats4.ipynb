{
 "cells": [
  {
   "cell_type": "markdown",
   "metadata": {},
   "source": [
    "STATISTICAL METHODS FOR DECISIONS MAKING\n"
   ]
  },
  {
   "cell_type": "code",
   "execution_count": 1,
   "metadata": {},
   "outputs": [],
   "source": [
    "import numpy as np\n",
    "import pandas as pd\n",
    "import matplotlib.pyplot as plt\n",
    "import seaborn as sn\n",
    "import scipy.stats as st"
   ]
  },
  {
   "cell_type": "markdown",
   "metadata": {},
   "source": [
    "1. The Bangalore International Airport Ltd.(BIAL) maintains statistics for mishandled baggage per 1,000 airline passengers. In the last year 2018-19, on average, they mishandled 1.5 baggage per 1,000 customers. What is the probability that in the next 1,000 customers, BIAL will have\n",
    "\n",
    "a.\tno mishandled baggage (1 MARK)\n",
    "\n",
    "b.\tat least one mishandled baggage (2 MARKS) \n",
    "\n",
    "c.\tat most 3 mishandled baggage (2 MARKS)\n"
   ]
  },
  {
   "cell_type": "code",
   "execution_count": 3,
   "metadata": {},
   "outputs": [
    {
     "name": "stdout",
     "output_type": "stream",
     "text": [
      "the probability that BIAL will have no mishandled baggage 0.22313016014842982\n"
     ]
    }
   ],
   "source": [
    "lamda = 1.5\n",
    "print('the probability that BIAL will have no mishandled baggage',st.poisson.pmf(0,lamda))\n"
   ]
  },
  {
   "cell_type": "code",
   "execution_count": 4,
   "metadata": {},
   "outputs": [
    {
     "name": "stdout",
     "output_type": "stream",
     "text": [
      "the probability that BIAL will have at least one mishandled baggage 0.7768698398515702\n"
     ]
    }
   ],
   "source": [
    "print('the probability that BIAL will have at least one mishandled baggage', 1-st.poisson.pmf(0,lamda))"
   ]
  },
  {
   "cell_type": "code",
   "execution_count": 5,
   "metadata": {},
   "outputs": [
    {
     "name": "stdout",
     "output_type": "stream",
     "text": [
      "the probability that BIAL will have at most 3 mishandled baggage 0.9343575456215499\n"
     ]
    }
   ],
   "source": [
    "print('the probability that BIAL will have at most 3 mishandled baggage', st.poisson.cdf(3,lamda))"
   ]
  },
  {
   "cell_type": "markdown",
   "metadata": {},
   "source": [
    "2. The below data contains the weight of 20 random ‘LAYS’ packets in grams.\n",
    " 9.0, 8.8, 10.2, 7.4,9.5, 7.0, 6.6, 9.6, 9.9, 7.6, 7.4, 11.6, 10.4, 11.1, 8.5, 10.0, 10.7, 10.3, 11.2, and 8.0 \n",
    " \n",
    "a.\tIs the mean weight of all (Population) LAYS packets μ = 10 grams different from the mean weight of this sample? (3 MARKS)\n",
    "\n",
    "b.\tFind the 95% confidence interval. (2 MARKS)\n",
    "\n",
    "\n"
   ]
  },
  {
   "cell_type": "markdown",
   "metadata": {},
   "source": [
    "\n",
    "* H<sub>0</sub>: x&#772; - &mu; = 0, that is there is no difference between my sample mean and the value of &mu;.\n",
    "* H<sub>a</sub>: x&#772; - &mu; &ne; 0 (two-sided test)\n",
    "* &alpha; = 0.05\n",
    "\n",
    "[t-table](http://www.sjsu.edu/faculty/gerstman/StatPrimer/t-table.pdf)\n",
    "* degrees of freedom: d<sub>f</sub> = N-1\n",
    "* t-critical for specified alpha level: t<sub>*</sub> = 2.093\n",
    "* t-statistic: t = (x&#772; - &mu;)/(s/sqrt(N)) where s is the sample standard deviation."
   ]
  },
  {
   "cell_type": "code",
   "execution_count": 21,
   "metadata": {},
   "outputs": [],
   "source": [
    "x = [9.0, 8.8, 10.2, 7.4,9.5, 7.0, 6.6,9.6, 9.9, 7.6, 7.4, 11.6, 10.4, 11.1, 8.5, 10.0, 10.7, 10.3, 11.2, 8.0]\n"
   ]
  },
  {
   "cell_type": "code",
   "execution_count": 22,
   "metadata": {},
   "outputs": [
    {
     "data": {
      "text/plain": [
       "20"
      ]
     },
     "execution_count": 22,
     "metadata": {},
     "output_type": "execute_result"
    }
   ],
   "source": [
    "len(x)"
   ]
  },
  {
   "cell_type": "code",
   "execution_count": 23,
   "metadata": {},
   "outputs": [],
   "source": [
    "#5% alpha, dof = 19 leads to tc = 2.093"
   ]
  },
  {
   "cell_type": "code",
   "execution_count": 24,
   "metadata": {},
   "outputs": [
    {
     "name": "stdout",
     "output_type": "stream",
     "text": [
      "t-statistic:  -2.2491611580763924\n"
     ]
    }
   ],
   "source": [
    "import numpy as np\n",
    "from scipy import stats\n",
    "mu = 10\n",
    "t_critical = 2.093\n",
    "x_bar = np.array(x).mean()\n",
    "s = np.array(x).std(ddof=1) # subtract 1 from N to get unbiased estimate of sample standard deviation\n",
    "N = len(x)\n",
    "SE = s/np.sqrt(N)\n",
    "t = (x_bar - mu)/SE\n",
    "print(\"t-statistic: \",t)"
   ]
  },
  {
   "cell_type": "code",
   "execution_count": 29,
   "metadata": {},
   "outputs": [
    {
     "data": {
      "text/plain": [
       "0.036555622791124565"
      ]
     },
     "execution_count": 29,
     "metadata": {},
     "output_type": "execute_result"
    }
   ],
   "source": [
    "print(1-st.t.sf(t,N-1))*2"
   ]
  },
  {
   "cell_type": "code",
   "execution_count": 13,
   "metadata": {},
   "outputs": [
    {
     "name": "stdout",
     "output_type": "stream",
     "text": [
      "Ttest_1sampResult(statistic=-2.249161158076392, pvalue=0.03655562279112455)\n"
     ]
    }
   ],
   "source": [
    "print(stats.ttest_1samp(x, 10))"
   ]
  },
  {
   "cell_type": "code",
   "execution_count": 14,
   "metadata": {},
   "outputs": [
    {
     "name": "stdout",
     "output_type": "stream",
     "text": [
      "t =  -2.249161158076392 , p =  0.03655562279112455\n"
     ]
    }
   ],
   "source": [
    "# OR using inbuilt python functions for one sample----stats.ttest_1samp(x, mean)\n",
    "# a one sample t-test that gives you the p-value too can be done with scipy as follows:\n",
    "t, p = stats.ttest_1samp(x, mu)\n",
    "print(\"t = \", t, \", p = \", p)"
   ]
  },
  {
   "cell_type": "code",
   "execution_count": 15,
   "metadata": {},
   "outputs": [
    {
     "name": "stdout",
     "output_type": "stream",
     "text": [
      " we are rejecting null hypothesis\n"
     ]
    }
   ],
   "source": [
    "if p/2 < 0.05:    # alpha value is 0.05 or 5%\n",
    "    print(\" we are rejecting null hypothesis\")\n",
    "else:\n",
    "    print(\"we are accepting null hypothesis\")"
   ]
  },
  {
   "cell_type": "code",
   "execution_count": 16,
   "metadata": {},
   "outputs": [
    {
     "name": "stdout",
     "output_type": "stream",
     "text": [
      "x_bar = 9.24, 95% CI [8.53, 9.95]\n",
      "CI using scipy:  (8.532759313560824, 9.947240686439176)\n"
     ]
    }
   ],
   "source": [
    "# margin of error\n",
    "err = t_critical*SE\n",
    "x_low = x_bar - err # margins\n",
    "x_high = x_bar + err\n",
    "print(\"x_bar = {}, 95% CI [{}, {}]\".format(x_bar.round(2), x_low.round(2), x_high.round(2)))\n",
    "\n",
    "# OR\n",
    "# you can also get CIs by using the build int t-distribution function like this:\n",
    "print(\"CI using scipy: \",stats.t.interval(0.95, N-1, loc=x_bar, scale=SE)) # arguments: (CI, dof, mean, std)"
   ]
  },
  {
   "cell_type": "code",
   "execution_count": 14,
   "metadata": {},
   "outputs": [
    {
     "data": {
      "text/plain": [
       "(8.532759313560824, 9.947240686439176)"
      ]
     },
     "execution_count": 14,
     "metadata": {},
     "output_type": "execute_result"
    }
   ],
   "source": [
    "stats.t.interval(0.95, N-1, loc=x_bar, scale=SE) # scale = standard error, location = sample mean"
   ]
  },
  {
   "cell_type": "code",
   "execution_count": 15,
   "metadata": {},
   "outputs": [
    {
     "data": {
      "text/plain": [
       "9.24"
      ]
     },
     "execution_count": 15,
     "metadata": {},
     "output_type": "execute_result"
    }
   ],
   "source": [
    "np.mean(x) # 8.5, 9.94"
   ]
  },
  {
   "cell_type": "markdown",
   "metadata": {},
   "source": [
    "3. A set of final examination grades in SMDM course is normally distributed with a mean of 70 and a standard deviation of 10. If the professor gives grade A for the top 10% of the class regardless of their scores, are you better off with a grade of 81 in this exam or a grade of 65 in a different exam, where the mean is 60 and standard deviation is 5? Show your answer statistically and explain?"
   ]
  },
  {
   "cell_type": "code",
   "execution_count": 20,
   "metadata": {},
   "outputs": [
    {
     "name": "stdout",
     "output_type": "stream",
     "text": [
      "1.0999999999999999 1.0999999999999999\n"
     ]
    }
   ],
   "source": [
    "# Option 1\n",
    "exam1_mean = 70\n",
    "exam1_sd = 10\n",
    "prob_score_exam1 = st.norm.cdf(81,70,10)\n",
    "z_score_exam1 = st.norm.ppf(prob_score_exam1)\n",
    "\n",
    "# Option 2\n",
    "exam2_mean = 60\n",
    "exam2_sd = 5\n",
    "prob_score_exam2 = st.norm.cdf(65,60,5)\n",
    "z_score_exam2 = st.norm.ppf(prob_score_exam1)\n",
    "print(z_score_exam1,z_score_exam2)"
   ]
  },
  {
   "cell_type": "markdown",
   "metadata": {},
   "source": [
    "No difference, both are same. "
   ]
  },
  {
   "cell_type": "markdown",
   "metadata": {},
   "source": [
    "4. A company manufacturing Cola has studied the effect of its latest advertising campaign and then measured the number of cans of Cola purchased. A simple linear regression model was fitted for number of cans of Cola purchased (Y) with number of advertisements (X). The fitted regression model is Y = 3.331 + 1.711 X. The coefficient of determination was 0.619, but the adjusted R-square was 0.555. \n",
    "\n",
    "a. Find the coefficient of correlation between X and Y (1 mark)\n",
    "\n",
    "b. Interpret the values on regression coefficient, correlation coefficient, coefficient of determination and adjusted R-square (4 marks)\n",
    "\n"
   ]
  },
  {
   "cell_type": "code",
   "execution_count": 22,
   "metadata": {},
   "outputs": [
    {
     "name": "stdout",
     "output_type": "stream",
     "text": [
      "Coefficient of correlation is 0.7867655305108378\n"
     ]
    }
   ],
   "source": [
    "# a. Coefficient of correlation\n",
    "rsquare = 0.619\n",
    "r = np.sqrt(rsquare)\n",
    "print('Coefficient of correlation is', r)"
   ]
  },
  {
   "attachments": {
    "image.png": {
     "image/png": "[encoded data removed]"
    }
   },
   "cell_type": "markdown",
   "metadata": {},
   "source": [
    "b. (i)regression coefficient = 1.711\n",
    " The changes in the value of 'y'  for every one unit change in x is 1.711\n",
    " \n",
    " (ii) correlation coefficient = 0.786\n",
    " There is a high positive corerelationship between y and x. It gives only the intensity of the relationship.\n",
    " \n",
    " (iii) coefficient of determination( R square)= 0.619\n",
    " Only 61.9% changes in y can be explained by changes in x. It is square of multiple correlation coefficient. It is also expressed as ratio of Sum of Square Regression(SSR) to Sum of Square Total(SST)\n",
    " \n",
    " (iv)Adjusted R Square = 0.555 \n",
    " It does consider number of observations and number of features to correct the R square value. It is given as \n",
    " \n",
    " ![image.png](attachment:image.png)\n"
   ]
  },
  {
   "attachments": {
    "image.png": {
     "image/png": "[encoded data removed]"
    }
   },
   "cell_type": "markdown",
   "metadata": {},
   "source": [
    "5.\tMultiple myeloma or blood plasma cancer is characterised by increased by blood vessel formulation (angiogenesis) in the bone marrow that is a predictive factor in survival. One treatment approach used for multiple myeloma is stem cell transplantation with the patient’s own stem cells. The data given below represents the bone marrow micro vessel density for patients who had a complete response to the stem cell transplant (as measured by blood and urine tests). The measurements were taken immediately prior to the stem cell transplant and at the time the complete response was determined. (10 MARKS)\n",
    "\n",
    "![image.png](attachment:image.png)\n",
    "\n",
    "\n",
    "a.\tAt the 0.05 level of significance, is there evidence that the mean bone marrow micro vessel density is higher before the stem cell transplant than after the stem cell transplant? (5 MARKS)\n",
    "\n",
    "b.\tInterpret the meaning of test statistic and p-value from the result. (3 MARKS)\n",
    "\n",
    "c.\tConstruct and interpret the 95% confidence interval estimation of the mean difference in bone marrow micro vessel density before and after stem cell transplant. (2 MARKS)\n"
   ]
  },
  {
   "cell_type": "code",
   "execution_count": 18,
   "metadata": {},
   "outputs": [],
   "source": [
    "mvd_before_stem_transplant = np.array([158,189,202,353,416,426,441])\n",
    "mvd_after_stem_transplant = np.array([284,214,101,227,290,176,290])\n",
    "sample_size = len(mvd_after_stem_transplant)"
   ]
  },
  {
   "cell_type": "markdown",
   "metadata": {},
   "source": [
    "H0: The mean difference of micro vessel density before and after is zero.\n",
    "H1: The mean difference of micro vessel density before and after is not zero.\n",
    "\n",
    "Assuming level of significance = 0.05"
   ]
  },
  {
   "cell_type": "code",
   "execution_count": 19,
   "metadata": {},
   "outputs": [
    {
     "data": {
      "text/plain": [
       "Ttest_relResult(statistic=-1.8424550291027728, pvalue=0.11498626687185708)"
      ]
     },
     "execution_count": 19,
     "metadata": {},
     "output_type": "execute_result"
    }
   ],
   "source": [
    "st.ttest_rel(mvd_after_stem_transplant, mvd_before_stem_transplant)"
   ]
  },
  {
   "cell_type": "code",
   "execution_count": 27,
   "metadata": {},
   "outputs": [
    {
     "name": "stdout",
     "output_type": "stream",
     "text": [
      "1.9431802803927818\n"
     ]
    }
   ],
   "source": [
    "t_critical = st.t.isf(0.05,sample_size-1)\n",
    "print(t_critical)"
   ]
  },
  {
   "cell_type": "markdown",
   "metadata": {},
   "source": [
    "Since p value is more than level of significance, we have to accept null hypothesis. It means there is no difference of MVD before and after the stem transplant. \n",
    "And t test statistic is less than t_critical, we have to accept null hypothesis."
   ]
  },
  {
   "cell_type": "code",
   "execution_count": 40,
   "metadata": {},
   "outputs": [
    {
     "data": {
      "text/plain": [
       "(-192.06025556183695, 19.774541276122676)"
      ]
     },
     "execution_count": 40,
     "metadata": {},
     "output_type": "execute_result"
    }
   ],
   "source": [
    "## Confidence interval \n",
    "difference = mvd_after_stem_transplant-mvd_before_stem_transplant\n",
    "mean_difference = np.mean(difference)\n",
    "sd_difference = np.std(difference)\n",
    "se_difference = sd_difference/np.sqrt(sample_size)\n",
    "st.t.interval(0.95, (sample_size-1), mean_difference, se_difference)"
   ]
  },
  {
   "cell_type": "markdown",
   "metadata": {},
   "source": [
    "6. The mass of N1=20 acorns from oak trees up wind from a coal power plant and N2=30 acorns from oak trees downwind from the same coal power plant are measured. Are the acorns from trees downwind less massive then the ones from up wind? The sample sizes are not equal but we will assume that the population variance of sample 1 and sample 2 are equal. alpha = 0.05, t-critical for specified alpha level = -1.677\n",
    "\n",
    "Samples are given below. State the Null and Alternate hypothesis. \n",
    "Which test would be used here? Do you reject or retain the H0 based on your test? Find the t-statistic, Confidence Interval and p value.                                                                                   \n",
    "(10 MARKS)\n",
    "\n",
    "#### sample up wind\n",
    "x1 = [10.8, 10.0, 8.2, 9.9, 11.6, 10.1, 11.3, 10.3, 10.7, 9.7, 7.8, 9.6, 9.7, 11.6, 10.3, 9.8, 12.3, 11.0, 10.4, 10.4]\n",
    "\n",
    "##### sample downwind: x2 = [7.8, 7.5, 9.5, 11.7, 8.1, 8.8, 8.8, 7.7, 9.7, 7.0, 9.0, 9.7, 11.3, 8.7, 8.8, 10.9, 10.3, 9.6, 8.4, 6.6, 7.2, 7.6, 11.5, 6.6, 8.6, 10.5, 8.4, 8.5, 10.2, 9.2]\n"
   ]
  },
  {
   "cell_type": "code",
   "execution_count": 1,
   "metadata": {},
   "outputs": [],
   "source": [
    "# sample up wind\n",
    "\n",
    "x1 = [10.8, 10.0, 8.2, 9.9, 11.6, 10.1, 11.3, 10.3, 10.7, 9.7, \n",
    "      7.8, 9.6, 9.7, 11.6, 10.3, 9.8, 12.3, 11.0, 10.4, 10.4]"
   ]
  },
  {
   "cell_type": "code",
   "execution_count": 2,
   "metadata": {},
   "outputs": [],
   "source": [
    "# sample down wind\n",
    "\n",
    "x2 = [7.8, 7.5, 9.5, 11.7, 8.1, 8.8, 8.8, 7.7, 9.7, 7.0, \n",
    "      9.0, 9.7, 11.3, 8.7, 8.8, 10.9, 10.3, 9.6, 8.4, 6.6,\n",
    "      7.2, 7.6, 11.5, 6.6, 8.6, 10.5, 8.4, 8.5, 10.2, 9.2]"
   ]
  },
  {
   "cell_type": "code",
   "execution_count": 6,
   "metadata": {},
   "outputs": [
    {
     "name": "stdout",
     "output_type": "stream",
     "text": [
      "t-statistic -3.5981947686898033\n",
      "t =  -3.5981947686898033 , p_twosided =  0.0007560337478801464 , p_onesided = 0.0003780168739400732\n"
     ]
    }
   ],
   "source": [
    "#Solution\n",
    "\n",
    "# equal sample size and assume equal population variance\n",
    "import numpy as np\n",
    "t_critical = 1.677\n",
    "N1 = len(x1)\n",
    "N2 = len(x2)\n",
    "d1 = N1-1\n",
    "d2 = N2-1\n",
    "df = d1+d2\n",
    "s1 = np.std(x1,ddof=1)\n",
    "s2 = np.std(x2,ddof=1)\n",
    "x1_bar = np.mean(x1)\n",
    "x2_bar = np.mean(x2)\n",
    "\n",
    "sp = np.sqrt((d1*s1**2 + d2*s2**2)/df)\n",
    "se = sp*np.sqrt(1/N1 + 1/N2)\n",
    "t = (x2_bar - x1_bar)/(se)\n",
    "print(\"t-statistic\", t)\n",
    "\n",
    "# a two-sample independent t-test is done with scipy as follows\n",
    "# NOTE: the p-value given is two-sided so the one-sided p value would be p/2\n",
    "t, p_twosided = st.ttest_ind(x2, x1, equal_var=True)\n",
    "print(\"t = \",t, \", p_twosided = \", p_twosided, \", p_onesided =\", p_twosided/2)"
   ]
  },
  {
   "cell_type": "code",
   "execution_count": 44,
   "metadata": {},
   "outputs": [
    {
     "name": "stdout",
     "output_type": "stream",
     "text": [
      "Confidence Interval:\n",
      "x2_bar - x1_bar =  -1.3350000000000026 , 95% CI  (-2.0809844644533113, -0.589015535546694)\n",
      "Cohen's Effect Size, d:\n",
      "d =  -1.0387093591498806\n",
      "r_squared =  0.21243054465702976\n"
     ]
    }
   ],
   "source": [
    "print(\"Confidence Interval:\")\n",
    "print(\"x2_bar - x1_bar = \", x2_bar - x1_bar, \", 95% CI \",stats.t.interval(0.95, df, loc=x2_bar-x1_bar, scale=se))\n",
    "print(\"Cohen's Effect Size, d:\")\n",
    "print(\"d = \", (x2_bar - x1_bar)/sp)\n",
    "\n",
    "rsq = t**2 / (t**2 + df)\n",
    "print(\"r_squared = \", rsq) # 34.5 % of the variation between samples can be explained by the switch to nat. gas"
   ]
  },
  {
   "attachments": {
    "image.png": {
     "image/png": "[encoded data removed]"
    }
   },
   "cell_type": "markdown",
   "metadata": {},
   "source": [
    "7.\ta) The below data is scores of ‘BRICS’ countries on ‘Starting a business’. It is collected from ‘Doingbusineess.org’, a part of World Bank Group. Is the score of ‘Starting a business depends on the country or time or both? \n",
    "\n",
    "a.\tState your hypothesis statements and level of significance (2 MARKS)\n",
    "\n",
    "b.\tState which test do you apply assuming the ‘score’ follows normal distribution and determine the test results. (4 MARKS)\n",
    "\n",
    "c.\tInterpret the results obtained (2 MARKS)\n",
    "\n",
    "![image.png](attachment:image.png)\n",
    "\n"
   ]
  },
  {
   "cell_type": "code",
   "execution_count": 2,
   "metadata": {},
   "outputs": [],
   "source": [
    "## Is score of starting a business depending on time(Year)?\n",
    "# H0: There is no difference in the average score of Starting a business w.r.t year\n",
    "# H1: There is a difference in the average score of Starting a business w.r.t year.\n",
    "\n",
    "## Is score of starting a business depending on country?\n",
    "# H0: There is no difference in the average score of Starting a business w.r.t country\n",
    "# H1: There is a difference in the average score of Starting a business w.r.t country.\n",
    "alpha = 0.05\n",
    "score_df = pd.DataFrame({'Score': [81.3,80.3,64.8,93.1,93,93,73.9,81,81.6,\n",
    "                         94.1,93.4,85.4,81.2,81.2,80], \n",
    "                         'Country': ['Brazil','Brazil','Brazil',\n",
    "                                     'Russia','Russia','Russia',\n",
    "                                     'India','India','India',\n",
    "                                     'China','China','China',\n",
    "                                    'SA','SA','SA'], \n",
    "                         'Year': ['2018','2019','2020',\n",
    "                                 '2018','2019','2020',\n",
    "                                 '2018','2019','2020',\n",
    "                                 '2018','2019','2020',\n",
    "                                 '2018','2019','2020']})\n"
   ]
  },
  {
   "cell_type": "code",
   "execution_count": 3,
   "metadata": {},
   "outputs": [
    {
     "data": {
      "text/html": [
       "<div>\n",
       "<style scoped>\n",
       "    .dataframe tbody tr th:only-of-type {\n",
       "        vertical-align: middle;\n",
       "    }\n",
       "\n",
       "    .dataframe tbody tr th {\n",
       "        vertical-align: top;\n",
       "    }\n",
       "\n",
       "    .dataframe thead th {\n",
       "        text-align: right;\n",
       "    }\n",
       "</style>\n",
       "<table border=\"1\" class=\"dataframe\">\n",
       "  <thead>\n",
       "    <tr style=\"text-align: right;\">\n",
       "      <th></th>\n",
       "      <th>Score</th>\n",
       "      <th>Country</th>\n",
       "      <th>Year</th>\n",
       "    </tr>\n",
       "  </thead>\n",
       "  <tbody>\n",
       "    <tr>\n",
       "      <th>0</th>\n",
       "      <td>81.3</td>\n",
       "      <td>Brazil</td>\n",
       "      <td>2018</td>\n",
       "    </tr>\n",
       "    <tr>\n",
       "      <th>1</th>\n",
       "      <td>80.3</td>\n",
       "      <td>Brazil</td>\n",
       "      <td>2019</td>\n",
       "    </tr>\n",
       "    <tr>\n",
       "      <th>2</th>\n",
       "      <td>64.8</td>\n",
       "      <td>Brazil</td>\n",
       "      <td>2020</td>\n",
       "    </tr>\n",
       "    <tr>\n",
       "      <th>3</th>\n",
       "      <td>93.1</td>\n",
       "      <td>Russia</td>\n",
       "      <td>2018</td>\n",
       "    </tr>\n",
       "    <tr>\n",
       "      <th>4</th>\n",
       "      <td>93.0</td>\n",
       "      <td>Russia</td>\n",
       "      <td>2019</td>\n",
       "    </tr>\n",
       "  </tbody>\n",
       "</table>\n",
       "</div>"
      ],
      "text/plain": [
       "   Score Country  Year\n",
       "0   81.3  Brazil  2018\n",
       "1   80.3  Brazil  2019\n",
       "2   64.8  Brazil  2020\n",
       "3   93.1  Russia  2018\n",
       "4   93.0  Russia  2019"
      ]
     },
     "execution_count": 3,
     "metadata": {},
     "output_type": "execute_result"
    }
   ],
   "source": [
    "score_df.head()"
   ]
  },
  {
   "cell_type": "code",
   "execution_count": 4,
   "metadata": {},
   "outputs": [],
   "source": [
    "import statsmodels.api as sm\n",
    "from statsmodels.formula.api  import ols"
   ]
  },
  {
   "cell_type": "code",
   "execution_count": 14,
   "metadata": {
    "scrolled": true
   },
   "outputs": [
    {
     "name": "stdout",
     "output_type": "stream",
     "text": [
      "           df      sum_sq     mean_sq         F    PR(>F)\n",
      "Country   4.0  719.177333  179.794333  7.515281  0.008118\n",
      "Year      2.0   64.156000   32.078000  1.340839  0.314631\n",
      "Residual  8.0  191.390667   23.923833       NaN       NaN\n"
     ]
    }
   ],
   "source": [
    "two_way_anov = ols('Score~Country+Year', data = score_df).fit()\n",
    "anova_table = sm.stats.anova_lm(two_way_anov,typ=1)\n",
    "print(anova_table)"
   ]
  },
  {
   "cell_type": "markdown",
   "metadata": {},
   "source": [
    "Conclusion: The above results indicates that the score depends on country not the year. "
   ]
  },
  {
   "attachments": {
    "image.png": {
     "image/png": "[encoded data removed]"
    }
   },
   "cell_type": "markdown",
   "metadata": {},
   "source": [
    "b) Four brands of bulbs were tested for their lifetime (in ‘000 hours). From the following data obtained, test whether the life duration of the bulbs is significantly different. If it is significant, which pair of methods (Make type) has significantly different (Post-hoc analysis) and write your inferences. (7 marks)\n",
    "\n",
    "![image.png](attachment:image.png)"
   ]
  },
  {
   "cell_type": "code",
   "execution_count": 70,
   "metadata": {},
   "outputs": [
    {
     "name": "stdout",
     "output_type": "stream",
     "text": [
      "F critical value is 3.3438886781189123\n"
     ]
    },
    {
     "data": {
      "text/plain": [
       "F_onewayResult(statistic=1.6688741721854305, pvalue=0.21909520543565303)"
      ]
     },
     "execution_count": 70,
     "metadata": {},
     "output_type": "execute_result"
    }
   ],
   "source": [
    "# H0: There is no difference in the average life duration w.r.t make type\n",
    "# H1: There is a difference in the average life duration w.r.t make type\n",
    "alpha =0.05\n",
    "dof_numerator = 4-1\n",
    "dof_denominator = 18-4\n",
    "m1= [20,23,18,17]\n",
    "m2=[19,15,17,20,16] \n",
    "m3=[21,19,20,17,16]\n",
    "m4=[15,17,16,18]\n",
    "f_critical = st.f.isf(0.05,dof_numerator,dof_denominator)\n",
    "\n",
    "print(\"F critical value is\",f_critical)\n",
    "\n",
    "st.f_oneway(m1,m2,m3,m4)"
   ]
  },
  {
   "cell_type": "markdown",
   "metadata": {},
   "source": [
    "Since F statistic is less than F critical value and also p value is more than alpha(0.05) accept null hypothesis. It means there is no difference in the average duration of bulb w.r.t make type."
   ]
  },
  {
   "attachments": {
    "image.png": {
     "image/png": "[encoded data removed]"
    }
   },
   "cell_type": "markdown",
   "metadata": {},
   "source": [
    "8.\tThe following data relates to the scores obtained by a salesman of a company in an intelligence test and their weekly sales (in Rs.1000’s):\n",
    "\n",
    "![image.png](attachment:image.png)\n",
    "\n",
    "\n",
    "a.\tObtain the regression equation of sales on intelligence test scores of the salesman. and write your inferences on the results of regression model. (10 marks)\n",
    "\n",
    "b.\tIf the intelligence test score of a salesman is 65, what would be his expected weekly sales?  (5 marks)\n"
   ]
  },
  {
   "cell_type": "code",
   "execution_count": 71,
   "metadata": {},
   "outputs": [
    {
     "data": {
      "text/html": [
       "<div>\n",
       "<style scoped>\n",
       "    .dataframe tbody tr th:only-of-type {\n",
       "        vertical-align: middle;\n",
       "    }\n",
       "\n",
       "    .dataframe tbody tr th {\n",
       "        vertical-align: top;\n",
       "    }\n",
       "\n",
       "    .dataframe thead th {\n",
       "        text-align: right;\n",
       "    }\n",
       "</style>\n",
       "<table border=\"1\" class=\"dataframe\">\n",
       "  <thead>\n",
       "    <tr style=\"text-align: right;\">\n",
       "      <th></th>\n",
       "      <th>Test_Score</th>\n",
       "      <th>Weekly_Sales</th>\n",
       "    </tr>\n",
       "    <tr>\n",
       "      <th>salesman</th>\n",
       "      <th></th>\n",
       "      <th></th>\n",
       "    </tr>\n",
       "  </thead>\n",
       "  <tbody>\n",
       "    <tr>\n",
       "      <th>A</th>\n",
       "      <td>50</td>\n",
       "      <td>30</td>\n",
       "    </tr>\n",
       "    <tr>\n",
       "      <th>B</th>\n",
       "      <td>60</td>\n",
       "      <td>60</td>\n",
       "    </tr>\n",
       "    <tr>\n",
       "      <th>C</th>\n",
       "      <td>50</td>\n",
       "      <td>40</td>\n",
       "    </tr>\n",
       "    <tr>\n",
       "      <th>D</th>\n",
       "      <td>60</td>\n",
       "      <td>50</td>\n",
       "    </tr>\n",
       "    <tr>\n",
       "      <th>E</th>\n",
       "      <td>80</td>\n",
       "      <td>60</td>\n",
       "    </tr>\n",
       "  </tbody>\n",
       "</table>\n",
       "</div>"
      ],
      "text/plain": [
       "          Test_Score  Weekly_Sales\n",
       "salesman                          \n",
       "A                 50            30\n",
       "B                 60            60\n",
       "C                 50            40\n",
       "D                 60            50\n",
       "E                 80            60"
      ]
     },
     "execution_count": 71,
     "metadata": {},
     "output_type": "execute_result"
    }
   ],
   "source": [
    "data = pd.DataFrame({'salesman': ['A','B','C','D','E','F','G','H','I'],\n",
    "                    'Test_Score':[50,60,50,60,80,50,80,40,70],\n",
    "                    'Weekly_Sales':[30,60,40,50,60,30,70,50,60]}).set_index('salesman')\n",
    "data.head()"
   ]
  },
  {
   "cell_type": "code",
   "execution_count": 72,
   "metadata": {},
   "outputs": [
    {
     "data": {
      "text/html": [
       "<div>\n",
       "<style scoped>\n",
       "    .dataframe tbody tr th:only-of-type {\n",
       "        vertical-align: middle;\n",
       "    }\n",
       "\n",
       "    .dataframe tbody tr th {\n",
       "        vertical-align: top;\n",
       "    }\n",
       "\n",
       "    .dataframe thead th {\n",
       "        text-align: right;\n",
       "    }\n",
       "</style>\n",
       "<table border=\"1\" class=\"dataframe\">\n",
       "  <thead>\n",
       "    <tr style=\"text-align: right;\">\n",
       "      <th></th>\n",
       "      <th>Test_Score</th>\n",
       "      <th>Weekly_Sales</th>\n",
       "    </tr>\n",
       "  </thead>\n",
       "  <tbody>\n",
       "    <tr>\n",
       "      <th>count</th>\n",
       "      <td>9.000000</td>\n",
       "      <td>9.000000</td>\n",
       "    </tr>\n",
       "    <tr>\n",
       "      <th>mean</th>\n",
       "      <td>60.000000</td>\n",
       "      <td>50.000000</td>\n",
       "    </tr>\n",
       "    <tr>\n",
       "      <th>std</th>\n",
       "      <td>14.142136</td>\n",
       "      <td>14.142136</td>\n",
       "    </tr>\n",
       "    <tr>\n",
       "      <th>min</th>\n",
       "      <td>40.000000</td>\n",
       "      <td>30.000000</td>\n",
       "    </tr>\n",
       "    <tr>\n",
       "      <th>25%</th>\n",
       "      <td>50.000000</td>\n",
       "      <td>40.000000</td>\n",
       "    </tr>\n",
       "    <tr>\n",
       "      <th>50%</th>\n",
       "      <td>60.000000</td>\n",
       "      <td>50.000000</td>\n",
       "    </tr>\n",
       "    <tr>\n",
       "      <th>75%</th>\n",
       "      <td>70.000000</td>\n",
       "      <td>60.000000</td>\n",
       "    </tr>\n",
       "    <tr>\n",
       "      <th>max</th>\n",
       "      <td>80.000000</td>\n",
       "      <td>70.000000</td>\n",
       "    </tr>\n",
       "  </tbody>\n",
       "</table>\n",
       "</div>"
      ],
      "text/plain": [
       "       Test_Score  Weekly_Sales\n",
       "count    9.000000      9.000000\n",
       "mean    60.000000     50.000000\n",
       "std     14.142136     14.142136\n",
       "min     40.000000     30.000000\n",
       "25%     50.000000     40.000000\n",
       "50%     60.000000     50.000000\n",
       "75%     70.000000     60.000000\n",
       "max     80.000000     70.000000"
      ]
     },
     "execution_count": 72,
     "metadata": {},
     "output_type": "execute_result"
    }
   ],
   "source": [
    "# Check the descriptive statistics of test score and weekly sales.\n",
    "data.describe()"
   ]
  },
  {
   "cell_type": "code",
   "execution_count": 73,
   "metadata": {},
   "outputs": [
    {
     "data": {
      "text/html": [
       "<div>\n",
       "<style scoped>\n",
       "    .dataframe tbody tr th:only-of-type {\n",
       "        vertical-align: middle;\n",
       "    }\n",
       "\n",
       "    .dataframe tbody tr th {\n",
       "        vertical-align: top;\n",
       "    }\n",
       "\n",
       "    .dataframe thead th {\n",
       "        text-align: right;\n",
       "    }\n",
       "</style>\n",
       "<table border=\"1\" class=\"dataframe\">\n",
       "  <thead>\n",
       "    <tr style=\"text-align: right;\">\n",
       "      <th></th>\n",
       "      <th>Test_Score</th>\n",
       "      <th>Weekly_Sales</th>\n",
       "    </tr>\n",
       "  </thead>\n",
       "  <tbody>\n",
       "    <tr>\n",
       "      <th>Test_Score</th>\n",
       "      <td>1.00</td>\n",
       "      <td>0.75</td>\n",
       "    </tr>\n",
       "    <tr>\n",
       "      <th>Weekly_Sales</th>\n",
       "      <td>0.75</td>\n",
       "      <td>1.00</td>\n",
       "    </tr>\n",
       "  </tbody>\n",
       "</table>\n",
       "</div>"
      ],
      "text/plain": [
       "              Test_Score  Weekly_Sales\n",
       "Test_Score          1.00          0.75\n",
       "Weekly_Sales        0.75          1.00"
      ]
     },
     "execution_count": 73,
     "metadata": {},
     "output_type": "execute_result"
    }
   ],
   "source": [
    "# Check the correlation between test score and weekly sales.\n",
    "data.corr()"
   ]
  },
  {
   "cell_type": "code",
   "execution_count": 76,
   "metadata": {},
   "outputs": [
    {
     "data": {
      "text/plain": [
       "<matplotlib.axes._subplots.AxesSubplot at 0x1e4cc0f9048>"
      ]
     },
     "execution_count": 76,
     "metadata": {},
     "output_type": "execute_result"
    },
    {
     "data": {
      "image/png": "[encoded data removed]",
      "text/plain": [
       "<Figure size 432x288 with 1 Axes>"
      ]
     },
     "metadata": {
      "needs_background": "light"
     },
     "output_type": "display_data"
    }
   ],
   "source": [
    "# Draw scatterplot between test score and weekly sales.\n",
    "sn.scatterplot(y='Weekly_Sales',x='Test_Score', data=data)"
   ]
  },
  {
   "cell_type": "code",
   "execution_count": 77,
   "metadata": {},
   "outputs": [
    {
     "name": "stderr",
     "output_type": "stream",
     "text": [
      "C:\\ProgramData\\Anaconda3\\lib\\site-packages\\scipy\\stats\\stats.py:1416: UserWarning: kurtosistest only valid for n>=20 ... continuing anyway, n=9\n",
      "  \"anyway, n=%i\" % int(n))\n"
     ]
    },
    {
     "data": {
      "text/html": [
       "<table class=\"simpletable\">\n",
       "<caption>OLS Regression Results</caption>\n",
       "<tr>\n",
       "  <th>Dep. Variable:</th>      <td>Weekly_Sales</td>   <th>  R-squared:         </th> <td>   0.562</td>\n",
       "</tr>\n",
       "<tr>\n",
       "  <th>Model:</th>                   <td>OLS</td>       <th>  Adj. R-squared:    </th> <td>   0.500</td>\n",
       "</tr>\n",
       "<tr>\n",
       "  <th>Method:</th>             <td>Least Squares</td>  <th>  F-statistic:       </th> <td>   9.000</td>\n",
       "</tr>\n",
       "<tr>\n",
       "  <th>Date:</th>             <td>Fri, 17 Jan 2020</td> <th>  Prob (F-statistic):</th>  <td>0.0199</td> \n",
       "</tr>\n",
       "<tr>\n",
       "  <th>Time:</th>                 <td>19:09:19</td>     <th>  Log-Likelihood:    </th> <td> -32.363</td>\n",
       "</tr>\n",
       "<tr>\n",
       "  <th>No. Observations:</th>      <td>     9</td>      <th>  AIC:               </th> <td>   68.73</td>\n",
       "</tr>\n",
       "<tr>\n",
       "  <th>Df Residuals:</th>          <td>     7</td>      <th>  BIC:               </th> <td>   69.12</td>\n",
       "</tr>\n",
       "<tr>\n",
       "  <th>Df Model:</th>              <td>     1</td>      <th>                     </th>     <td> </td>   \n",
       "</tr>\n",
       "<tr>\n",
       "  <th>Covariance Type:</th>      <td>nonrobust</td>    <th>                     </th>     <td> </td>   \n",
       "</tr>\n",
       "</table>\n",
       "<table class=\"simpletable\">\n",
       "<tr>\n",
       "       <td></td>         <th>coef</th>     <th>std err</th>      <th>t</th>      <th>P>|t|</th>  <th>[0.025</th>    <th>0.975]</th>  \n",
       "</tr>\n",
       "<tr>\n",
       "  <th>Intercept</th>  <td>    5.0000</td> <td>   15.366</td> <td>    0.325</td> <td> 0.754</td> <td>  -31.335</td> <td>   41.335</td>\n",
       "</tr>\n",
       "<tr>\n",
       "  <th>Test_Score</th> <td>    0.7500</td> <td>    0.250</td> <td>    3.000</td> <td> 0.020</td> <td>    0.159</td> <td>    1.341</td>\n",
       "</tr>\n",
       "</table>\n",
       "<table class=\"simpletable\">\n",
       "<tr>\n",
       "  <th>Omnibus:</th>       <td> 0.173</td> <th>  Durbin-Watson:     </th> <td>   1.875</td>\n",
       "</tr>\n",
       "<tr>\n",
       "  <th>Prob(Omnibus):</th> <td> 0.917</td> <th>  Jarque-Bera (JB):  </th> <td>   0.358</td>\n",
       "</tr>\n",
       "<tr>\n",
       "  <th>Skew:</th>          <td> 0.076</td> <th>  Prob(JB):          </th> <td>   0.836</td>\n",
       "</tr>\n",
       "<tr>\n",
       "  <th>Kurtosis:</th>      <td> 2.035</td> <th>  Cond. No.          </th> <td>    283.</td>\n",
       "</tr>\n",
       "</table><br/><br/>Warnings:<br/>[1] Standard Errors assume that the covariance matrix of the errors is correctly specified."
      ],
      "text/plain": [
       "<class 'statsmodels.iolib.summary.Summary'>\n",
       "\"\"\"\n",
       "                            OLS Regression Results                            \n",
       "==============================================================================\n",
       "Dep. Variable:           Weekly_Sales   R-squared:                       0.562\n",
       "Model:                            OLS   Adj. R-squared:                  0.500\n",
       "Method:                 Least Squares   F-statistic:                     9.000\n",
       "Date:                Fri, 17 Jan 2020   Prob (F-statistic):             0.0199\n",
       "Time:                        19:09:19   Log-Likelihood:                -32.363\n",
       "No. Observations:                   9   AIC:                             68.73\n",
       "Df Residuals:                       7   BIC:                             69.12\n",
       "Df Model:                           1                                         \n",
       "Covariance Type:            nonrobust                                         \n",
       "==============================================================================\n",
       "                 coef    std err          t      P>|t|      [0.025      0.975]\n",
       "------------------------------------------------------------------------------\n",
       "Intercept      5.0000     15.366      0.325      0.754     -31.335      41.335\n",
       "Test_Score     0.7500      0.250      3.000      0.020       0.159       1.341\n",
       "==============================================================================\n",
       "Omnibus:                        0.173   Durbin-Watson:                   1.875\n",
       "Prob(Omnibus):                  0.917   Jarque-Bera (JB):                0.358\n",
       "Skew:                           0.076   Prob(JB):                        0.836\n",
       "Kurtosis:                       2.035   Cond. No.                         283.\n",
       "==============================================================================\n",
       "\n",
       "Warnings:\n",
       "[1] Standard Errors assume that the covariance matrix of the errors is correctly specified.\n",
       "\"\"\""
      ]
     },
     "execution_count": 77,
     "metadata": {},
     "output_type": "execute_result"
    }
   ],
   "source": [
    "# Creating model with help of OLS:\n",
    "from statsmodels.formula.api import ols\n",
    "model1 = ols('Weekly_Sales ~ Test_Score', data= data).fit()\n",
    "model1.summary()"
   ]
  },
  {
   "cell_type": "markdown",
   "metadata": {},
   "source": [
    "From the above model results, we can infer that only 56% ( R_square) of variation in Weekly_sales is explained by Test Score."
   ]
  },
  {
   "cell_type": "code",
   "execution_count": 78,
   "metadata": {},
   "outputs": [
    {
     "name": "stdout",
     "output_type": "stream",
     "text": [
      "The expected weekly sales is 53.75\n"
     ]
    }
   ],
   "source": [
    "# b. If the intelligence test score of a salesman is 65, \n",
    " # what would be his expected weekly sales?  (5 marks) \n",
    "intelligent_test_score = 65\n",
    "Exp_weekly_sales = 5 + 0.75*intelligent_test_score\n",
    "print('The expected weekly sales is',Exp_weekly_sales)"
   ]
  },
  {
   "cell_type": "markdown",
   "metadata": {},
   "source": [
    "***********************END****************"
   ]
  }
 ],
 "metadata": {
  "kernelspec": {
   "display_name": "Python 3",
   "language": "python",
   "name": "python3"
  },
  "language_info": {
   "codemirror_mode": {
    "name": "ipython",
    "version": 3
   },
   "file_extension": ".py",
   "mimetype": "text/x-python",
   "name": "python",
   "nbconvert_exporter": "python",
   "pygments_lexer": "ipython3",
   "version": "3.7.6"
  }
 },
 "nbformat": 4,
 "nbformat_minor": 2
}
