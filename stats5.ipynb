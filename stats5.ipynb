{
 "cells": [
  {
   "cell_type": "markdown",
   "metadata": {},
   "source": [
    "Solutions for Stats exam paper"
   ]
  },
  {
   "cell_type": "code",
   "execution_count": 10,
   "metadata": {},
   "outputs": [],
   "source": [
    "import numpy as np\n",
    "import pandas as pd\n",
    "import scipy.stats as st\n",
    "import statsmodels.stats as smt\n",
    "import seaborn as sn"
   ]
  },
  {
   "cell_type": "markdown",
   "metadata": {},
   "source": [
    "## SECTION –A (20 marks)"
   ]
  },
  {
   "cell_type": "markdown",
   "metadata": {},
   "source": [
    "1.\tSuppose weights of the checked baggage of airline passengers follow a nearly normal distribution with mean 45 pounds and standard deviation 3.2 pounds. Most airlines charge a fee for baggage that weigh in excess of 50 pounds. \n",
    "a)\tDetermine what percent of airline passengers incur this fee? (1 mark)\n",
    "b)\tIf the limit of baggage weight is increased to 48 pounds, what percent of airline passengers do not incur fee? (2 marks) \n",
    "c)\tc)\tWhat should be the baggage limit in order to have at least 10 % of airline passengers incur fee (2 marks) "
   ]
  },
  {
   "cell_type": "code",
   "execution_count": 14,
   "metadata": {},
   "outputs": [
    {
     "name": "stdout",
     "output_type": "stream",
     "text": [
      "a) percent of airline passengers incur this fee is  5.91\n",
      "b) percent of airline passengers do not incur fee is 82.57\n",
      "c) the baggage limit in order to have at least 10 % of airline passengers incur fee is 49.1\n"
     ]
    }
   ],
   "source": [
    "mu = 45\n",
    "sd = 3.2\n",
    "# a)\n",
    "fee_per = st.norm.sf(50,mu,sd)\n",
    "print(\"a) percent of airline passengers incur this fee is \", round(fee_per*100,2))\n",
    "# b)\n",
    "no_fee = st.norm.cdf(48,mu,sd)\n",
    "print(\"b) percent of airline passengers do not incur fee is\", round(no_fee*100,2))\n",
    "# c) \n",
    "bag_limit = st.norm.isf(0.1,mu,sd)\n",
    "print('c) the baggage limit in order to have at least 10 % of airline passengers incur fee is', round(bag_limit,2))"
   ]
  },
  {
   "cell_type": "markdown",
   "metadata": {},
   "source": [
    "2.\tA nationalized bank sanctions short term loan for its customers. The probability of sanctioning loan by the bank is 0.53. If 5 persons are selected at random what is the probability that\n",
    "a)\tNone were sanctioned loan? (1 mark)\n",
    "b)\tBetween 1 to 4 were sanctioned the loan? (2 marks)\n",
    "c)\tMore than 3 were sanctioned the loan? (2 marks)"
   ]
  },
  {
   "cell_type": "code",
   "execution_count": 29,
   "metadata": {},
   "outputs": [
    {
     "name": "stdout",
     "output_type": "stream",
     "text": [
      "probability of None were sanctioned loan is 0.02\n",
      "probability of between 1 to 4 were sanctioned the loan is 0.94\n",
      "probability of more than 3 were sanctioned the loan is 0.23\n"
     ]
    }
   ],
   "source": [
    "p =0.53\n",
    "n=5\n",
    "# a) \n",
    "x0 = st.binom.pmf(0,n,p)\n",
    "print(\"probability of None were sanctioned loan is\", round(x0,2))\n",
    "# b)\n",
    "x_1_4 = st.binom.cdf(4,n,p)-st.binom.cdf(0,n,p)\n",
    "print('probability of between 1 to 4 were sanctioned the loan is', round(x_1_4,2))\n",
    "x_morethan_3 = st.binom.sf(3,n,p)\n",
    "print('probability of more than 3 were sanctioned the loan is', round(x_morethan_3,2))"
   ]
  },
  {
   "cell_type": "markdown",
   "metadata": {},
   "source": [
    "3.\tA college admissions director wishes to estimate the mean age of all students currently enrolled. In a random sample of 20 students, the mean age is found to be 22.7 years. From the past studies, the standard deviation is known to be 1.2 years, and the population is normally distributed.\n",
    "\n",
    "a)\tConstruct 95% confidence interval of the population mean age (2marks) \n",
    "\n",
    "b)\tConstruct 90% confidence interval of the population mean age(2 marks)\n",
    "\n",
    "c)\tWrite your inferences on the values obtained in a and b (1 mark)  "
   ]
  },
  {
   "cell_type": "code",
   "execution_count": 150,
   "metadata": {},
   "outputs": [
    {
     "name": "stdout",
     "output_type": "stream",
     "text": [
      "22.17408647565405 23.22591352434595\n"
     ]
    }
   ],
   "source": [
    "n=20\n",
    "xbar=22.7\n",
    "sigma =1.2\n",
    "alpha1 = 0.05\n",
    "alpha2= 0.1\n",
    "stand_error = sigma/np.sqrt(n)\n",
    "#a)\n",
    "z_alpha= st.norm.isf(alpha1/2)\n",
    "upper_CI = xbar+z_alpha*stand_error\n",
    "lower_CI = xbar-z_alpha*stand_error\n",
    "print(lower_CI, upper_CI)"
   ]
  },
  {
   "cell_type": "code",
   "execution_count": 151,
   "metadata": {},
   "outputs": [
    {
     "name": "stdout",
     "output_type": "stream",
     "text": [
      "22.25863945725193 23.141360542748068\n"
     ]
    }
   ],
   "source": [
    "#b\n",
    "z_alpha= st.norm.isf(alpha2/2)\n",
    "upper_CI = xbar+z_alpha*stand_error\n",
    "lower_CI = xbar-z_alpha*stand_error\n",
    "print(lower_CI, upper_CI)"
   ]
  },
  {
   "cell_type": "markdown",
   "metadata": {},
   "source": [
    "# #c\n",
    "\n",
    "95% confident that the population mean lies between 22.174 to 23.33.\n",
    "\n",
    "and 90% confident that the population mean lies between 22.258 to 23.141"
   ]
  },
  {
   "cell_type": "markdown",
   "metadata": {},
   "source": [
    "4.\tA company manufacturing Cola has studied the effect of its latest advertising campaign and then measured the number of cans of Cola purchased. A simple linear regression model was fitted for number of cans of Cola purchased (Y) with number of advertisements (X). The fitted regression model is Y = 3.331 + 1.711 X. The coefficient of determination was 0.619, but the adjusted R-square was 0.555. \n",
    "(a) Find the coefficient of correlation between X and Y (1 mark)\n",
    "(b) Interpret the values on regression coefficient, correlation coefficient, coefficient of determination and adjusted R-square (4 marks)\n"
   ]
  },
  {
   "cell_type": "code",
   "execution_count": 46,
   "metadata": {},
   "outputs": [
    {
     "name": "stdout",
     "output_type": "stream",
     "text": [
      "correlation coefficient is 0.8312640976248162\n"
     ]
    }
   ],
   "source": [
    "# a)\n",
    "r_square = 0.691\n",
    "r = np.sqrt(r_square)\n",
    "print('correlation coefficient is',r)"
   ]
  },
  {
   "cell_type": "markdown",
   "metadata": {},
   "source": [
    "# #b)\n",
    "# Regression coefficient = 1.711\n",
    "for every 1.711 number of advertisments the number of cola cans purchased increases by 1. \n",
    "# Correlation coefficient = 0.83\n",
    "There is high positive correlationship between number of cola cans sold and number of advertisements.\n",
    "# Coefficient of Determination = 0.619\n",
    "The independent variable, i.e the number of advertisements can impact 61.9% variation on dependent variable, The number of cola cans sold.\n",
    "# Adjusted R -square = 0.555\n",
    "It adjusts the number of independent variables in the model. It mainly impulse the number of independent variables to incorporate in the model."
   ]
  },
  {
   "cell_type": "markdown",
   "metadata": {},
   "source": [
    "# SECTION – B (20 marks)"
   ]
  },
  {
   "cell_type": "markdown",
   "metadata": {},
   "source": [
    "5.\ta) You conduct a survey of a sample of 25 members of this year’s graduating marketing students and find that the average GPA is 3.2. The standard deviation of the sample is 0.4. Over the last 10 years, the average GPA has been 3.0. Is the GPA of this year’s students significantly different from the long-run average? At what alpha level would it be significant? (5 marks)"
   ]
  },
  {
   "cell_type": "code",
   "execution_count": 59,
   "metadata": {},
   "outputs": [
    {
     "name": "stdout",
     "output_type": "stream",
     "text": [
      " t statistic is  2.500000000000002\n",
      "p value is 0.02\n",
      "Hence we can say at alpha = 2% it will be significant\n"
     ]
    }
   ],
   "source": [
    "n = 25\n",
    "xbar = 3.2\n",
    "s = 0.4\n",
    "mu = 3.0\n",
    "dof = n-1\n",
    "stand_error = s/np.sqrt(n)\n",
    "t_stat = (xbar-mu)/stand_error\n",
    "print(\" t statistic is \", t_stat)\n",
    "p_value = round(2*st.t.sf(t_stat, dof),2)\n",
    "print('p value is',p_value)\n",
    "print(\"Hence we can say at alpha = 2% it will be significant\")"
   ]
  },
  {
   "cell_type": "markdown",
   "metadata": {},
   "source": [
    "b) It is desired to test if there is any significant difference between the average ages of seniors at M.E College and H.C College. A random sample of 10 seniors from M.E College revealed the average age to be 23 years with a standard deviation of 4 years. A similar random sample of 8 seniors from H.C.College revealed an average age of 26 years with a standard deviation of 5 years. At a 0.05 level of significance, is there a difference between the average ages of seniors at the two colleges? (5 marks)"
   ]
  },
  {
   "cell_type": "code",
   "execution_count": 74,
   "metadata": {},
   "outputs": [
    {
     "name": "stdout",
     "output_type": "stream",
     "text": [
      "t statistic = -1.3801311186847085\n",
      "t_critical =  2.1199052992210112\n",
      "pvalue =  0.18652678015723567\n"
     ]
    }
   ],
   "source": [
    "#H0:There is no difference in the means of ages b/w M.E and H.C college students. \n",
    "#H1:There is a difference in the means of ages b/w M.E and H.C. college studnets\n",
    "\n",
    "n_me = 10\n",
    "xbar_me = 23\n",
    "sd_me = 4\n",
    "n_hc = 8\n",
    "xbar_hc = 26\n",
    "sd_hc =5\n",
    "alpha = 0.05\n",
    "dof = n_me+n_hc-2\n",
    "stand_error = np.sqrt((sd_me**2/n_me)+(sd_hc**2/n_hc))\n",
    "t_stat = (xbar_me-xbar_hc)/stand_error\n",
    "print(\"t statistic =\", t_stat)\n",
    "print(\"t_critical = \", st.t.isf(alpha/2,dof))\n",
    "print(\"pvalue = \", 2*st.t.cdf(t_stat,dof))"
   ]
  },
  {
   "cell_type": "markdown",
   "metadata": {},
   "source": [
    "Since p value is greater than alpha and alsp t statistic is less than t critical , accept null hypothesis.Hence there is no significant difference between ages of these college students. "
   ]
  },
  {
   "attachments": {
    "image.png": {
     "image/png": "[encoded data removed]"
    }
   },
   "cell_type": "markdown",
   "metadata": {},
   "source": [
    "6.\ta) The demand for a particular spare part was found to vary from day to day.  In a sample study the following information was obtained.\n",
    "\n",
    "![image.png](attachment:image.png)\n",
    "\n",
    "Test the hypothesis at 1% level of significance that the number demanded depends upon the day and write your interpretations. (10 marks)\n"
   ]
  },
  {
   "cell_type": "code",
   "execution_count": 85,
   "metadata": {},
   "outputs": [
    {
     "name": "stdout",
     "output_type": "stream",
     "text": [
      "Chi square results are: \n",
      "  Power_divergenceResult(statistic=0.18035714285714285, pvalue=0.9993108903947044)\n",
      "Chisquare_ critical value is 11.070497693516355\n"
     ]
    }
   ],
   "source": [
    "# H0: The quantity demanded does not depend on Days\n",
    "# H1: the quantity demanded does depend on Days.\n",
    "\n",
    "table = [1124,1125,1110,1120,1126,1115]\n",
    "dof = len(table)-1\n",
    "stat_pvalue = st.chisquare(table)\n",
    "print(\"Chi square results are: \\n \",stat_pvalue )\n",
    "print ('Chisquare_ critical value is', st.chi2.isf(0.05,dof))"
   ]
  },
  {
   "cell_type": "markdown",
   "metadata": {},
   "source": [
    "Since chisquare statistic is less than chisquare critical and pvalue is alos greater than alpha(5 %) accept null hypothesis.\n",
    "It means the quantity demanded does not depend on the days."
   ]
  },
  {
   "cell_type": "markdown",
   "metadata": {},
   "source": [
    "6.b) Out of 1000 people surveyed 600 belonged to urban area and rest to rural area. Among 500 who visited other states 400 belonged to urban area. Test at 5% level of significance whether 'type of area'( rural or urban)  and 'visiting other states' are dependent?(5 marks) "
   ]
  },
  {
   "attachments": {
    "image.png": {
     "image/png": "[encoded data removed]"
    }
   },
   "cell_type": "markdown",
   "metadata": {},
   "source": [
    "\n",
    "H0: There is no association between type of area and other states visited.\n",
    "\n",
    "H1: There is an association between type of area and other states visited.\n",
    "\n",
    "![image.png](attachment:image.png)"
   ]
  },
  {
   "cell_type": "code",
   "execution_count": 99,
   "metadata": {},
   "outputs": [
    {
     "name": "stdout",
     "output_type": "stream",
     "text": [
      "chisquare critical value is = 3.8414588206941285\n",
      " The test results are,Chisquare statistic,p_value, dof, Expected values (165.00416666666666, 9.128507616296589e-38, 1, array([[300., 200.],\n",
      "       [300., 200.]]))\n"
     ]
    }
   ],
   "source": [
    "alpha =0.05\n",
    "table= np.array([400,100,200,300]).reshape(2,2)\n",
    "dof = (2-1)*(2-1)\n",
    "result = st.chi2_contingency(table)\n",
    "chi_critical = st.chi2.isf(alpha,dof)\n",
    "print(\"chisquare critical value is =\", chi_critical)\n",
    "print(\" The test results are,Chisquare statistic,p_value, dof, Expected values\", result )"
   ]
  },
  {
   "cell_type": "markdown",
   "metadata": {},
   "source": [
    "Since p value is close to zero (less than alpha) and also the test statistic is greater than critical, reject null hypothesis.\n",
    "It means there is no association b/w type of area and the states visited."
   ]
  },
  {
   "attachments": {
    "image.png": {
     "image/png": "[encoded data removed]"
    }
   },
   "cell_type": "markdown",
   "metadata": {},
   "source": [
    "7.\ta) Performance study conducted by Mr. Amar, Sales Manager of GLC Company  on 3 Sales Men of 3 regions showed the following results. He wants to know whether there is significant difference between Sales Men’s performances between regions using 5% level of significance. He has the following data: (7 marks)\n",
    "\n",
    "![image.png](attachment:image.png)"
   ]
  },
  {
   "cell_type": "code",
   "execution_count": null,
   "metadata": {},
   "outputs": [],
   "source": [
    "f="
   ]
  },
  {
   "cell_type": "code",
   "execution_count": 100,
   "metadata": {},
   "outputs": [
    {
     "name": "stdout",
     "output_type": "stream",
     "text": [
      " F critical value is  5.143252849784718\n",
      "Anova results, Test statistic and p value are:\n",
      " F_onewayResult(statistic=6.743842364532019, pvalue=0.02918589502743675)\n"
     ]
    }
   ],
   "source": [
    "# H0: There is no difference in the average performance of salesmen w.r.t region.\n",
    "# H1: There is a difference in the average performance of salesmen w.r.t. region.\n",
    "\n",
    "alpha = 0.05\n",
    "south = [57,49,54]\n",
    "north = [55,52,46]\n",
    "west = [67,68,58]\n",
    "dof_numerator= 3-1\n",
    "dof_denominator = 9-3\n",
    "f_critical = st.f.isf(alpha,dof_numerator,dof_denominator )\n",
    "print(\" F critical value is \",f_critical)\n",
    "anova_result = st.f_oneway(south,north,west)\n",
    "print(\"Anova results, Test statistic and p value are:\\n\", anova_result )"
   ]
  },
  {
   "cell_type": "markdown",
   "metadata": {},
   "source": [
    "Since p value is less than alpha (0.05) and also the F test statistic(6.74) is greater than F critical value (5.14) reject null hypothesis.\n",
    "Hence there is a difference between average performances of sales men w.r.t. region.  we need to do post hoc analyis to check which pair of regins has significant difference."
   ]
  },
  {
   "cell_type": "code",
   "execution_count": null,
   "metadata": {},
   "outputs": [],
   "source": [
    "from statsmodels.stats.multicomp import pairwise_tukeyhsd\n"
   ]
  },
  {
   "cell_type": "code",
   "execution_count": 111,
   "metadata": {},
   "outputs": [
    {
     "data": {
      "text/html": [
       "<table class=\"simpletable\">\n",
       "<caption>Multiple Comparison of Means - Tukey HSD, FWER=0.05</caption>\n",
       "<tr>\n",
       "  <th>group1</th> <th>group2</th> <th>meandiff</th>  <th>p-adj</th>   <th>lower</th>   <th>upper</th>  <th>reject</th>\n",
       "</tr>\n",
       "<tr>\n",
       "     <td>n</td>      <td>s</td>    <td>-2.3333</td> <td>0.8112</td> <td>-14.2175</td> <td>9.5508</td>   <td>False</td>\n",
       "</tr>\n",
       "<tr>\n",
       "     <td>n</td>      <td>w</td>     <td>11.0</td>   <td>0.0664</td>  <td>-0.8842</td> <td>22.8842</td>  <td>False</td>\n",
       "</tr>\n",
       "<tr>\n",
       "     <td>s</td>      <td>w</td>    <td>13.3333</td> <td>0.0318</td>  <td>1.4492</td>  <td>25.2175</td>  <td>True</td> \n",
       "</tr>\n",
       "</table>"
      ],
      "text/plain": [
       "<class 'statsmodels.iolib.table.SimpleTable'>"
      ]
     },
     "execution_count": 111,
     "metadata": {},
     "output_type": "execute_result"
    }
   ],
   "source": [
    "from statsmodels.stats.multicomp import pairwise_tukeyhsd, d\n",
    "# H0: No sigificant difference between pair of regions' salesmen performance\n",
    "# H1: There is a significant difference b/w pair of regions'salesmen performances.\n",
    "# we need to convert table into dataframe:\n",
    "df = pd.DataFrame({'salesmen performance':[57,49,54,55,52,46,67,68,58],\n",
    "                   'region':['n','n','n','s','s','s','w','w','w']})\n",
    "pairwise_tukeyhsd(df['salesmen performance'],df['region'],alpha=0.05).summary()"
   ]
  },
  {
   "cell_type": "markdown",
   "metadata": {},
   "source": [
    "The above summary table indicates that only between south and west region has significant difference in the avergae performances of salesmen. "
   ]
  },
  {
   "attachments": {
    "image.png": {
     "image/png": "[encoded data removed]"
    }
   },
   "cell_type": "markdown",
   "metadata": {},
   "source": [
    "7. b)\tFour brands of bulbs were tested for their life time (in ‘000 hours). From the following data obtained, test whether the life duration of the bulbs is significantly different?(8 marks)\n",
    "![image.png](attachment:image.png)"
   ]
  },
  {
   "cell_type": "code",
   "execution_count": 113,
   "metadata": {},
   "outputs": [
    {
     "name": "stdout",
     "output_type": "stream",
     "text": [
      "F critical value is 3.3438886781189123\n"
     ]
    },
    {
     "data": {
      "text/plain": [
       "F_onewayResult(statistic=1.6688741721854305, pvalue=0.21909520543565303)"
      ]
     },
     "execution_count": 113,
     "metadata": {},
     "output_type": "execute_result"
    }
   ],
   "source": [
    "# H0: There is no difference in the average life duration w.r.t make type\n",
    "# H1: There is a difference in the average life duration w.r.t make type\n",
    "alpha =0.05\n",
    "dof_numerator = 4-1\n",
    "dof_denominator = 18-4\n",
    "m1= [20,23,18,17]\n",
    "m2=[19,15,17,20,16] \n",
    "m3=[21,19,20,17,16]\n",
    "m4=[15,17,16,18]\n",
    "f_critical = st.f.isf(0.05,dof_numerator,dof_denominator)\n",
    "\n",
    "print(\"F critical value is\",f_critical)\n",
    "\n",
    "st.f_oneway(m1,m2,m3,m4)\n"
   ]
  },
  {
   "cell_type": "markdown",
   "metadata": {},
   "source": [
    "Since F statistic is less than F critical value and also p value is more than alpha(0.05) accept null hypothesis. \n",
    "It means there is no difference in the average duration of bulb w.r.t make type."
   ]
  },
  {
   "attachments": {
    "image.png": {
     "image/png": "[encoded data removed]"
    }
   },
   "cell_type": "markdown",
   "metadata": {},
   "source": [
    "8.\tThe following data relates to the scores obtained by a salesman of a company in an intelligence test and their weekly sales (in Rs.1000’s) :\n",
    "\n",
    "![image.png](attachment:image.png)\n",
    "\n",
    "a.Obtain the regression equation of sales on intelligence test scores of the salesman. And write your inferences on the results of the model.(10 marks)\n",
    "\n",
    "b.If the intelligence test score of a salesman is 65, what would be his expected weekly sales?  (5 marks) "
   ]
  },
  {
   "cell_type": "code",
   "execution_count": 122,
   "metadata": {},
   "outputs": [
    {
     "data": {
      "text/html": [
       "<div>\n",
       "<style scoped>\n",
       "    .dataframe tbody tr th:only-of-type {\n",
       "        vertical-align: middle;\n",
       "    }\n",
       "\n",
       "    .dataframe tbody tr th {\n",
       "        vertical-align: top;\n",
       "    }\n",
       "\n",
       "    .dataframe thead th {\n",
       "        text-align: right;\n",
       "    }\n",
       "</style>\n",
       "<table border=\"1\" class=\"dataframe\">\n",
       "  <thead>\n",
       "    <tr style=\"text-align: right;\">\n",
       "      <th></th>\n",
       "      <th>Test_Score</th>\n",
       "      <th>Weekly_Sales</th>\n",
       "    </tr>\n",
       "    <tr>\n",
       "      <th>salesman</th>\n",
       "      <th></th>\n",
       "      <th></th>\n",
       "    </tr>\n",
       "  </thead>\n",
       "  <tbody>\n",
       "    <tr>\n",
       "      <th>A</th>\n",
       "      <td>50</td>\n",
       "      <td>30</td>\n",
       "    </tr>\n",
       "    <tr>\n",
       "      <th>B</th>\n",
       "      <td>60</td>\n",
       "      <td>60</td>\n",
       "    </tr>\n",
       "    <tr>\n",
       "      <th>C</th>\n",
       "      <td>50</td>\n",
       "      <td>40</td>\n",
       "    </tr>\n",
       "    <tr>\n",
       "      <th>D</th>\n",
       "      <td>60</td>\n",
       "      <td>50</td>\n",
       "    </tr>\n",
       "    <tr>\n",
       "      <th>E</th>\n",
       "      <td>80</td>\n",
       "      <td>60</td>\n",
       "    </tr>\n",
       "  </tbody>\n",
       "</table>\n",
       "</div>"
      ],
      "text/plain": [
       "          Test_Score  Weekly_Sales\n",
       "salesman                          \n",
       "A                 50            30\n",
       "B                 60            60\n",
       "C                 50            40\n",
       "D                 60            50\n",
       "E                 80            60"
      ]
     },
     "execution_count": 122,
     "metadata": {},
     "output_type": "execute_result"
    }
   ],
   "source": [
    "data = pd.DataFrame({'salesman': ['A','B','C','D','E','F','G','H','I'],\n",
    "                    'Test_Score':[50,60,50,60,80,50,80,40,70],\n",
    "                    'Weekly_Sales':[30,60,40,50,60,30,70,50,60]}).set_index('salesman')\n",
    "data.head()"
   ]
  },
  {
   "cell_type": "code",
   "execution_count": 123,
   "metadata": {},
   "outputs": [
    {
     "data": {
      "text/html": [
       "<div>\n",
       "<style scoped>\n",
       "    .dataframe tbody tr th:only-of-type {\n",
       "        vertical-align: middle;\n",
       "    }\n",
       "\n",
       "    .dataframe tbody tr th {\n",
       "        vertical-align: top;\n",
       "    }\n",
       "\n",
       "    .dataframe thead th {\n",
       "        text-align: right;\n",
       "    }\n",
       "</style>\n",
       "<table border=\"1\" class=\"dataframe\">\n",
       "  <thead>\n",
       "    <tr style=\"text-align: right;\">\n",
       "      <th></th>\n",
       "      <th>Test_Score</th>\n",
       "      <th>Weekly_Sales</th>\n",
       "    </tr>\n",
       "  </thead>\n",
       "  <tbody>\n",
       "    <tr>\n",
       "      <th>count</th>\n",
       "      <td>9.000000</td>\n",
       "      <td>9.000000</td>\n",
       "    </tr>\n",
       "    <tr>\n",
       "      <th>mean</th>\n",
       "      <td>60.000000</td>\n",
       "      <td>50.000000</td>\n",
       "    </tr>\n",
       "    <tr>\n",
       "      <th>std</th>\n",
       "      <td>14.142136</td>\n",
       "      <td>14.142136</td>\n",
       "    </tr>\n",
       "    <tr>\n",
       "      <th>min</th>\n",
       "      <td>40.000000</td>\n",
       "      <td>30.000000</td>\n",
       "    </tr>\n",
       "    <tr>\n",
       "      <th>25%</th>\n",
       "      <td>50.000000</td>\n",
       "      <td>40.000000</td>\n",
       "    </tr>\n",
       "    <tr>\n",
       "      <th>50%</th>\n",
       "      <td>60.000000</td>\n",
       "      <td>50.000000</td>\n",
       "    </tr>\n",
       "    <tr>\n",
       "      <th>75%</th>\n",
       "      <td>70.000000</td>\n",
       "      <td>60.000000</td>\n",
       "    </tr>\n",
       "    <tr>\n",
       "      <th>max</th>\n",
       "      <td>80.000000</td>\n",
       "      <td>70.000000</td>\n",
       "    </tr>\n",
       "  </tbody>\n",
       "</table>\n",
       "</div>"
      ],
      "text/plain": [
       "       Test_Score  Weekly_Sales\n",
       "count    9.000000      9.000000\n",
       "mean    60.000000     50.000000\n",
       "std     14.142136     14.142136\n",
       "min     40.000000     30.000000\n",
       "25%     50.000000     40.000000\n",
       "50%     60.000000     50.000000\n",
       "75%     70.000000     60.000000\n",
       "max     80.000000     70.000000"
      ]
     },
     "execution_count": 123,
     "metadata": {},
     "output_type": "execute_result"
    }
   ],
   "source": [
    "# Check the descriptive statistics of test score and weekly sales.\n",
    "data.describe()"
   ]
  },
  {
   "cell_type": "code",
   "execution_count": 124,
   "metadata": {},
   "outputs": [
    {
     "data": {
      "text/html": [
       "<div>\n",
       "<style scoped>\n",
       "    .dataframe tbody tr th:only-of-type {\n",
       "        vertical-align: middle;\n",
       "    }\n",
       "\n",
       "    .dataframe tbody tr th {\n",
       "        vertical-align: top;\n",
       "    }\n",
       "\n",
       "    .dataframe thead th {\n",
       "        text-align: right;\n",
       "    }\n",
       "</style>\n",
       "<table border=\"1\" class=\"dataframe\">\n",
       "  <thead>\n",
       "    <tr style=\"text-align: right;\">\n",
       "      <th></th>\n",
       "      <th>Test_Score</th>\n",
       "      <th>Weekly_Sales</th>\n",
       "    </tr>\n",
       "  </thead>\n",
       "  <tbody>\n",
       "    <tr>\n",
       "      <th>Test_Score</th>\n",
       "      <td>1.00</td>\n",
       "      <td>0.75</td>\n",
       "    </tr>\n",
       "    <tr>\n",
       "      <th>Weekly_Sales</th>\n",
       "      <td>0.75</td>\n",
       "      <td>1.00</td>\n",
       "    </tr>\n",
       "  </tbody>\n",
       "</table>\n",
       "</div>"
      ],
      "text/plain": [
       "              Test_Score  Weekly_Sales\n",
       "Test_Score          1.00          0.75\n",
       "Weekly_Sales        0.75          1.00"
      ]
     },
     "execution_count": 124,
     "metadata": {},
     "output_type": "execute_result"
    }
   ],
   "source": [
    "# Check the correlation between test score and weekly sales.\n",
    "data.corr()"
   ]
  },
  {
   "cell_type": "code",
   "execution_count": 125,
   "metadata": {},
   "outputs": [
    {
     "data": {
      "text/plain": [
       "<matplotlib.axes._subplots.AxesSubplot at 0x1f087417da0>"
      ]
     },
     "execution_count": 125,
     "metadata": {},
     "output_type": "execute_result"
    },
    {
     "data": {
      "image/png": "[encoded data removed]",
      "text/plain": [
       "<Figure size 432x288 with 1 Axes>"
      ]
     },
     "metadata": {
      "needs_background": "light"
     },
     "output_type": "display_data"
    }
   ],
   "source": [
    "# Draw scatterplot between test score and weekly sales.\n",
    "sn.scatterplot(y='Weekly_Sales',x='Test_Score', data=data)"
   ]
  },
  {
   "cell_type": "code",
   "execution_count": 130,
   "metadata": {},
   "outputs": [
    {
     "name": "stderr",
     "output_type": "stream",
     "text": [
      "C:\\ProgramData\\Anaconda3\\lib\\site-packages\\scipy\\stats\\stats.py:1416: UserWarning: kurtosistest only valid for n>=20 ... continuing anyway, n=9\n",
      "  \"anyway, n=%i\" % int(n))\n"
     ]
    },
    {
     "data": {
      "text/html": [
       "<table class=\"simpletable\">\n",
       "<caption>OLS Regression Results</caption>\n",
       "<tr>\n",
       "  <th>Dep. Variable:</th>      <td>Weekly_Sales</td>   <th>  R-squared:         </th> <td>   0.562</td>\n",
       "</tr>\n",
       "<tr>\n",
       "  <th>Model:</th>                   <td>OLS</td>       <th>  Adj. R-squared:    </th> <td>   0.500</td>\n",
       "</tr>\n",
       "<tr>\n",
       "  <th>Method:</th>             <td>Least Squares</td>  <th>  F-statistic:       </th> <td>   9.000</td>\n",
       "</tr>\n",
       "<tr>\n",
       "  <th>Date:</th>             <td>Mon, 23 Dec 2019</td> <th>  Prob (F-statistic):</th>  <td>0.0199</td> \n",
       "</tr>\n",
       "<tr>\n",
       "  <th>Time:</th>                 <td>17:31:00</td>     <th>  Log-Likelihood:    </th> <td> -32.363</td>\n",
       "</tr>\n",
       "<tr>\n",
       "  <th>No. Observations:</th>      <td>     9</td>      <th>  AIC:               </th> <td>   68.73</td>\n",
       "</tr>\n",
       "<tr>\n",
       "  <th>Df Residuals:</th>          <td>     7</td>      <th>  BIC:               </th> <td>   69.12</td>\n",
       "</tr>\n",
       "<tr>\n",
       "  <th>Df Model:</th>              <td>     1</td>      <th>                     </th>     <td> </td>   \n",
       "</tr>\n",
       "<tr>\n",
       "  <th>Covariance Type:</th>      <td>nonrobust</td>    <th>                     </th>     <td> </td>   \n",
       "</tr>\n",
       "</table>\n",
       "<table class=\"simpletable\">\n",
       "<tr>\n",
       "       <td></td>         <th>coef</th>     <th>std err</th>      <th>t</th>      <th>P>|t|</th>  <th>[0.025</th>    <th>0.975]</th>  \n",
       "</tr>\n",
       "<tr>\n",
       "  <th>Intercept</th>  <td>    5.0000</td> <td>   15.366</td> <td>    0.325</td> <td> 0.754</td> <td>  -31.335</td> <td>   41.335</td>\n",
       "</tr>\n",
       "<tr>\n",
       "  <th>Test_Score</th> <td>    0.7500</td> <td>    0.250</td> <td>    3.000</td> <td> 0.020</td> <td>    0.159</td> <td>    1.341</td>\n",
       "</tr>\n",
       "</table>\n",
       "<table class=\"simpletable\">\n",
       "<tr>\n",
       "  <th>Omnibus:</th>       <td> 0.173</td> <th>  Durbin-Watson:     </th> <td>   1.875</td>\n",
       "</tr>\n",
       "<tr>\n",
       "  <th>Prob(Omnibus):</th> <td> 0.917</td> <th>  Jarque-Bera (JB):  </th> <td>   0.358</td>\n",
       "</tr>\n",
       "<tr>\n",
       "  <th>Skew:</th>          <td> 0.076</td> <th>  Prob(JB):          </th> <td>   0.836</td>\n",
       "</tr>\n",
       "<tr>\n",
       "  <th>Kurtosis:</th>      <td> 2.035</td> <th>  Cond. No.          </th> <td>    283.</td>\n",
       "</tr>\n",
       "</table><br/><br/>Warnings:<br/>[1] Standard Errors assume that the covariance matrix of the errors is correctly specified."
      ],
      "text/plain": [
       "<class 'statsmodels.iolib.summary.Summary'>\n",
       "\"\"\"\n",
       "                            OLS Regression Results                            \n",
       "==============================================================================\n",
       "Dep. Variable:           Weekly_Sales   R-squared:                       0.562\n",
       "Model:                            OLS   Adj. R-squared:                  0.500\n",
       "Method:                 Least Squares   F-statistic:                     9.000\n",
       "Date:                Mon, 23 Dec 2019   Prob (F-statistic):             0.0199\n",
       "Time:                        17:31:00   Log-Likelihood:                -32.363\n",
       "No. Observations:                   9   AIC:                             68.73\n",
       "Df Residuals:                       7   BIC:                             69.12\n",
       "Df Model:                           1                                         \n",
       "Covariance Type:            nonrobust                                         \n",
       "==============================================================================\n",
       "                 coef    std err          t      P>|t|      [0.025      0.975]\n",
       "------------------------------------------------------------------------------\n",
       "Intercept      5.0000     15.366      0.325      0.754     -31.335      41.335\n",
       "Test_Score     0.7500      0.250      3.000      0.020       0.159       1.341\n",
       "==============================================================================\n",
       "Omnibus:                        0.173   Durbin-Watson:                   1.875\n",
       "Prob(Omnibus):                  0.917   Jarque-Bera (JB):                0.358\n",
       "Skew:                           0.076   Prob(JB):                        0.836\n",
       "Kurtosis:                       2.035   Cond. No.                         283.\n",
       "==============================================================================\n",
       "\n",
       "Warnings:\n",
       "[1] Standard Errors assume that the covariance matrix of the errors is correctly specified.\n",
       "\"\"\""
      ]
     },
     "execution_count": 130,
     "metadata": {},
     "output_type": "execute_result"
    }
   ],
   "source": [
    "# Creating model with help of OLS:\n",
    "from statsmodels.formula.api import ols\n",
    "model1 = ols('Weekly_Sales ~ Test_Score', data= data).fit()\n",
    "model1.summary()"
   ]
  },
  {
   "cell_type": "markdown",
   "metadata": {},
   "source": [
    "From the above model results, we can infer that only 56% ( R_square) of variation in Weekly_sales is explained by Test Score."
   ]
  },
  {
   "cell_type": "code",
   "execution_count": 149,
   "metadata": {},
   "outputs": [
    {
     "name": "stdout",
     "output_type": "stream",
     "text": [
      "The expected weekly sales is 53.75\n"
     ]
    }
   ],
   "source": [
    "# b. If the intelligence test score of a salesman is 65, \n",
    " # what would be his expected weekly sales?  (5 marks) \n",
    "intelligent_test_score = 65\n",
    "Exp_weekly_sales = 5 + 0.75*intelligent_test_score\n",
    "print('The expected weekly sales is',Exp_weekly_sales)"
   ]
  },
  {
   "cell_type": "markdown",
   "metadata": {},
   "source": [
    "******************************** END*********************"
   ]
  }
 ],
 "metadata": {
  "kernelspec": {
   "display_name": "Python 3",
   "language": "python",
   "name": "python3"
  },
  "language_info": {
   "codemirror_mode": {
    "name": "ipython",
    "version": 3
   },
   "file_extension": ".py",
   "mimetype": "text/x-python",
   "name": "python",
   "nbconvert_exporter": "python",
   "pygments_lexer": "ipython3",
   "version": "3.7.6"
  }
 },
 "nbformat": 4,
 "nbformat_minor": 2
}
